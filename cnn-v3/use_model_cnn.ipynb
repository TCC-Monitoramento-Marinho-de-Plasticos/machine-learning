{
 "cells": [
  {
   "cell_type": "code",
   "execution_count": 2,
   "id": "fa248482",
   "metadata": {},
   "outputs": [],
   "source": [
    "import tensorflow as tf\n",
    "import numpy as np\n",
    "from tensorflow.keras.models import load_model\n",
    "from tensorflow.keras.preprocessing import image"
   ]
  },
  {
   "cell_type": "code",
   "execution_count": 14,
   "id": "6f08c4f6",
   "metadata": {},
   "outputs": [
    {
     "name": "stdout",
     "output_type": "stream",
     "text": [
      "\u001b[1m1/1\u001b[0m \u001b[32m━━━━━━━━━━━━━━━━━━━━\u001b[0m\u001b[37m\u001b[0m \u001b[1m0s\u001b[0m 80ms/step\n",
      "Probabilidades: [[0.07905227]]\n",
      "Classe prevista: Não Plástico\n"
     ]
    }
   ],
   "source": [
    "# Carregar o modelo exportado\n",
    "model = load_model(\"modelo_cnn_imagens_de_fora_3_50epochs.keras\")\n",
    "\n",
    "# Exemplo: carregar uma imagem para predição\n",
    "img_path = \"clean7.png\"  # coloque aqui a imagem que deseja testar\n",
    "img = image.load_img(img_path, target_size=(150, 150))  # ajuste o tamanho de acordo com seu modelo\n",
    "img_array = image.img_to_array(img)\n",
    "img_array = np.expand_dims(img_array, axis=0)\n",
    "img_array = img_array / 255.0  # normalização, se você fez isso no treino\n",
    "\n",
    "# Fazer a previsão\n",
    "predicao = model.predict(img_array)\n",
    "classe_prevista = \"Não Plástico\" if predicao[0][0] < 0.5 else \"Plástico\"\n",
    "\n",
    "print(\"Probabilidades:\", predicao)\n",
    "print(\"Classe prevista:\", classe_prevista)"
   ]
  }
 ],
 "metadata": {
  "kernelspec": {
   "display_name": "venv",
   "language": "python",
   "name": "python3"
  },
  "language_info": {
   "codemirror_mode": {
    "name": "ipython",
    "version": 3
   },
   "file_extension": ".py",
   "mimetype": "text/x-python",
   "name": "python",
   "nbconvert_exporter": "python",
   "pygments_lexer": "ipython3",
   "version": "3.12.5"
  }
 },
 "nbformat": 4,
 "nbformat_minor": 5
}
