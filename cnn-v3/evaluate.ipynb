{
 "cells": [
  {
   "cell_type": "code",
   "execution_count": 4,
   "id": "03522d76",
   "metadata": {},
   "outputs": [
    {
     "name": "stdout",
     "output_type": "stream",
     "text": [
      "(None, 150, 150, 3)\n",
      "Found 186 images belonging to 2 classes.\n",
      "\u001b[1m6/6\u001b[0m \u001b[32m━━━━━━━━━━━━━━━━━━━━\u001b[0m\u001b[37m\u001b[0m \u001b[1m1s\u001b[0m 114ms/step\n",
      "Classes mapeadas: {'no-plastic': 0, 'plastic': 1}\n",
      "              precision    recall  f1-score   support\n",
      "\n",
      "  no-plastic       0.95      0.66      0.78        94\n",
      "     plastic       0.74      0.97      0.84        92\n",
      "\n",
      "    accuracy                           0.81       186\n",
      "   macro avg       0.84      0.81      0.81       186\n",
      "weighted avg       0.85      0.81      0.81       186\n",
      "\n"
     ]
    }
   ],
   "source": [
    "import tensorflow as tf\n",
    "from tensorflow.keras.preprocessing.image import ImageDataGenerator\n",
    "from sklearn.metrics import classification_report\n",
    "import numpy as np\n",
    "\n",
    "# 1. Carregar o modelo .keras\n",
    "model = tf.keras.models.load_model(\"modelo_cnn_imagens_de_fora_3_50epochs.keras\")\n",
    "print(model.input_shape)\n",
    "\n",
    "# 2. Criar gerador de imagens (normalização)\n",
    "datagen = ImageDataGenerator(rescale=1./255)\n",
    "\n",
    "# O generator vai ler automaticamente subpastas (no-plastic, plastic)\n",
    "val_generator = datagen.flow_from_directory(\n",
    "    \"SOUVIK_mais_imagens/val\",                # pasta raiz\n",
    "    target_size=(150, 150),  # mesmo tamanho usado no treino\n",
    "    batch_size=32,\n",
    "    class_mode=\"binary\",     # ou \"categorical\" se tiver mais de 2 classes\n",
    "    shuffle=False            # importante: não embaralhar!\n",
    ")\n",
    "\n",
    "# 3. Previsões\n",
    "pred_probs = model.predict(val_generator)\n",
    "# Se for binário, pega só o índice\n",
    "pred_classes = (pred_probs > 0.5).astype(\"int32\").flatten()\n",
    "\n",
    "# 4. Relatório\n",
    "print(\"Classes mapeadas:\", val_generator.class_indices)  # ex: {'no-plastic':0, 'plastic':1}\n",
    "\n",
    "y_true = val_generator.classes\n",
    "print(classification_report(y_true, pred_classes, target_names=list(val_generator.class_indices.keys())))\n"
   ]
  }
 ],
 "metadata": {
  "kernelspec": {
   "display_name": "venv",
   "language": "python",
   "name": "python3"
  },
  "language_info": {
   "codemirror_mode": {
    "name": "ipython",
    "version": 3
   },
   "file_extension": ".py",
   "mimetype": "text/x-python",
   "name": "python",
   "nbconvert_exporter": "python",
   "pygments_lexer": "ipython3",
   "version": "3.12.5"
  }
 },
 "nbformat": 4,
 "nbformat_minor": 5
}
